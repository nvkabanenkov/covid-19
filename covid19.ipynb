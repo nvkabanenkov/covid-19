{
 "cells": [
  {
   "cell_type": "code",
   "execution_count": 2,
   "metadata": {},
   "outputs": [],
   "source": [
    "input = open(\"covid19.txt\")\n",
    "lines = [line.rstrip() for line in input]"
   ]
  },
  {
   "cell_type": "code",
   "execution_count": 3,
   "metadata": {},
   "outputs": [],
   "source": [
    "genome = ''.join(lines[1:])"
   ]
  },
  {
   "cell_type": "code",
   "execution_count": 56,
   "metadata": {},
   "outputs": [],
   "source": [
    "def pattern_count(text, pattern):\n",
    "    count = 0\n",
    "    for i in range(len(text) - len(pattern)):\n",
    "        if text[i:i+len(pattern)] == pattern:\n",
    "            count += 1\n",
    "    return count\n",
    "\n",
    "def pattern_count_with_idx(text, pattern):\n",
    "    count = 0\n",
    "    for i in range(len(text) - len(pattern)):\n",
    "        if text[i:i+len(pattern)] == pattern:\n",
    "            print('Found at ' + str(i))\n",
    "            count += 1\n",
    "    return count"
   ]
  },
  {
   "cell_type": "code",
   "execution_count": 57,
   "metadata": {},
   "outputs": [],
   "source": [
    "def freq_words(text, k):\n",
    "    result = set()\n",
    "    cnt = []\n",
    "    \n",
    "    for i in range(len(text) - k):\n",
    "        pattern = text[i:i+k]\n",
    "        cnt.append(pattern_count(text, pattern))\n",
    "    \n",
    "    max_cnt = max(cnt)\n",
    "    \n",
    "    for i in range(len(text) - k):\n",
    "        if cnt[i] == max_cnt:\n",
    "            result.add(text[i:i+k])\n",
    "            \n",
    "    return list(result)\n",
    "\n",
    "def find_and_count(genome, max_k):\n",
    "    result = []\n",
    "    for i in range(3, max_k+1):\n",
    "        s = freq_words(genome, i)[0]\n",
    "        c = pattern_count(genome, s)\n",
    "        result.append(s)\n",
    "        print('String \"' + s + '\" found ' + str(c) + ' times.')\n",
    "    return result"
   ]
  },
  {
   "cell_type": "code",
   "execution_count": 6,
   "metadata": {},
   "outputs": [],
   "source": [
    "def complement(ch):\n",
    "    if ch == 'A':\n",
    "        return 'T'\n",
    "    elif ch == 'T':\n",
    "        return 'A'\n",
    "    elif ch == 'C':\n",
    "        return 'G'\n",
    "    elif ch == 'G':\n",
    "        return 'C'\n",
    "\n",
    "def rev_comp(pattern):\n",
    "    pattern = ''.join(reversed(pattern))\n",
    "    return map(complement, pattern)"
   ]
  },
  {
   "cell_type": "markdown",
   "metadata": {},
   "source": [
    "#### Строим SKEW диаграмму:"
   ]
  },
  {
   "cell_type": "code",
   "execution_count": 19,
   "metadata": {},
   "outputs": [],
   "source": [
    "def skew(genome):\n",
    "    s = [0]\n",
    "    for nucleotide in genome:\n",
    "        if nucleotide == 'G':\n",
    "            s.append(s[-1] + 1)\n",
    "        elif nucleotide == 'C':\n",
    "            s.append(s[-1] - 1)\n",
    "        else:\n",
    "            s.append(s[-1])\n",
    "    return s"
   ]
  },
  {
   "cell_type": "code",
   "execution_count": 11,
   "metadata": {},
   "outputs": [],
   "source": [
    "import matplotlib.pyplot\n",
    "%matplotlib inline"
   ]
  },
  {
   "cell_type": "code",
   "execution_count": 20,
   "metadata": {},
   "outputs": [],
   "source": [
    "y = skew(genome)\n",
    "x = range(len(genome)+1)"
   ]
  },
  {
   "cell_type": "code",
   "execution_count": 22,
   "metadata": {},
   "outputs": [
    {
     "data": {
      "text/plain": [
       "Text(0, 0.5, 'SKEW')"
      ]
     },
     "execution_count": 22,
     "metadata": {},
     "output_type": "execute_result"
    },
    {
     "data": {
      "image/png": "[encoded data removed]",
      "text/plain": [
       "<Figure size 432x288 with 1 Axes>"
      ]
     },
     "metadata": {
      "needs_background": "light"
     },
     "output_type": "display_data"
    }
   ],
   "source": [
    "matplotlib.pyplot.plot(x, y)\n",
    "matplotlib.pyplot.xlabel('Индекс')\n",
    "matplotlib.pyplot.ylabel('SKEW')"
   ]
  },
  {
   "cell_type": "code",
   "execution_count": 27,
   "metadata": {},
   "outputs": [
    {
     "data": {
      "text/plain": [
       "[<matplotlib.lines.Line2D at 0x7fb4a91c57d0>]"
      ]
     },
     "execution_count": 27,
     "metadata": {},
     "output_type": "execute_result"
    },
    {
     "data": {
      "image/png": "[encoded data removed]",
      "text/plain": [
       "<Figure size 432x288 with 1 Axes>"
      ]
     },
     "metadata": {
      "needs_background": "light"
     },
     "output_type": "display_data"
    }
   ],
   "source": [
    "matplotlib.pyplot.plot(x[:250], y[:250])"
   ]
  },
  {
   "cell_type": "markdown",
   "metadata": {},
   "source": [
    "#### Предполагаем, что oriC находится в окрестности минимума."
   ]
  },
  {
   "cell_type": "code",
   "execution_count": 39,
   "metadata": {},
   "outputs": [
    {
     "name": "stdout",
     "output_type": "stream",
     "text": [
      "String \"TCT\" found 10 times.\n",
      "String \"ATCT\" found 5 times.\n",
      "String \"GGCTG\" found 3 times.\n",
      "String \"TGCTTA\" found 2 times.\n",
      "String \"AACCAAC\" found 2 times.\n",
      "String \"GTTTCGTC\" found 2 times.\n",
      "String \"TTTCGTCCG\" found 2 times.\n",
      "String \"GGTTTCGTCC\" found 2 times.\n",
      "String \"GGTTTCGTCCG\" found 2 times.\n"
     ]
    }
   ],
   "source": [
    "frequent_strings = find_and_count(genome[:250], 11)"
   ]
  },
  {
   "cell_type": "markdown",
   "metadata": {},
   "source": [
    "#### Проверим, встречаются ли k-меры, обратно-комплементарные k-мерам выше (в этом же боксе)?"
   ]
  },
  {
   "cell_type": "code",
   "execution_count": 55,
   "metadata": {},
   "outputs": [
    {
     "data": {
      "text/plain": [
       "[0, 0, 0, 0, 0, 0, 0, 0, 0]"
      ]
     },
     "execution_count": 55,
     "metadata": {},
     "output_type": "execute_result"
    }
   ],
   "source": [
    "list(map(lambda p: pattern_count(genome[:250], list(p)), list(map(rev_comp, frequent_strings))))"
   ]
  },
  {
   "cell_type": "markdown",
   "metadata": {},
   "source": [
    "#### Не нашлось ни одного."
   ]
  },
  {
   "cell_type": "code",
   "execution_count": 59,
   "metadata": {},
   "outputs": [],
   "source": [
    "def hamming_dst(text1, text2):\n",
    "    dst = 0\n",
    "    for i in range(len(text1)):\n",
    "        if text1[i] != text2[i]:\n",
    "            dst += 1\n",
    "    return dst\n",
    "\n",
    "def approx_pattern_count(text, pattern, d):\n",
    "    count = 0\n",
    "    for i in range(len(text) - len(pattern)):\n",
    "        if hamming_dst(text[i:i+len(pattern)], pattern) <= d:\n",
    "            count += 1\n",
    "    return count"
   ]
  },
  {
   "cell_type": "markdown",
   "metadata": {},
   "source": [
    "#### Попробуем допускать ошибки (не более 1)."
   ]
  },
  {
   "cell_type": "code",
   "execution_count": 61,
   "metadata": {},
   "outputs": [
    {
     "data": {
      "text/plain": [
       "[49, 16, 4, 2, 4, 2, 2, 2, 2]"
      ]
     },
     "execution_count": 61,
     "metadata": {},
     "output_type": "execute_result"
    }
   ],
   "source": [
    "list(map(lambda p: approx_pattern_count(genome[:250], p, 1), frequent_strings))"
   ]
  },
  {
   "cell_type": "markdown",
   "metadata": {},
   "source": [
    "#### Увеличилось число 7-меров AACCAAC (с 3 до 4), остальные k-меры, k >= 7, не встретились чаще."
   ]
  },
  {
   "cell_type": "code",
   "execution_count": 66,
   "metadata": {},
   "outputs": [
    {
     "data": {
      "text/plain": [
       "[30, 8, 4, 1, 0, 0, 0, 0, 0]"
      ]
     },
     "execution_count": 66,
     "metadata": {},
     "output_type": "execute_result"
    }
   ],
   "source": [
    "list(map(lambda p: approx_pattern_count(genome[:250], list(p), 1), list(map(rev_comp, frequent_strings))))"
   ]
  },
  {
   "cell_type": "markdown",
   "metadata": {},
   "source": [
    "#### k-меры (k >= 7), являющиеся обратно-комплементарными и допускающими ошибку в 1 по Хэммингу, не стали встречаться чаще. Таким образом, претенденты следующие:\n",
    "\n",
    "String \"AACCAAC\" found 2 times.\n",
    "\n",
    "String \"GTTTCGTC\" found 2 times.\n",
    "\n",
    "String \"TTTCGTCCG\" found 2 times.\n",
    "\n",
    "String \"GGTTTCGTCC\" found 2 times.\n",
    "\n",
    "String \"GGTTTCGTCCG\" found 2 times.\n",
    "\n",
    "Мы знаем, что для бактерий следует искать 9-мер, но что мы можем сказать про вирусы?.."
   ]
  },
  {
   "cell_type": "markdown",
   "metadata": {},
   "source": []
  }
 ],
 "metadata": {
  "kernelspec": {
   "display_name": "Python 3",
   "language": "python",
   "name": "python3"
  },
  "language_info": {
   "codemirror_mode": {
    "name": "ipython",
    "version": 3
   },
   "file_extension": ".py",
   "mimetype": "text/x-python",
   "name": "python",
   "nbconvert_exporter": "python",
   "pygments_lexer": "ipython3",
   "version": "3.7.6"
  }
 },
 "nbformat": 4,
 "nbformat_minor": 4
}
